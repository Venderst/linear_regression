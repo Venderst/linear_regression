{
 "cells": [
  {
   "cell_type": "code",
   "execution_count": 1,
   "metadata": {
    "scrolled": true
   },
   "outputs": [],
   "source": [
    "import os\n",
    "\n",
    "from IPython.display import Image\n",
    "\n",
    "import numpy as np\n",
    "import matplotlib.pyplot as plt\n",
    "\n",
    "from tqdm.notebook import tqdm\n",
    "\n",
    "import imageio\n",
    "\n",
    "%matplotlib inline"
   ]
  },
  {
   "cell_type": "markdown",
   "metadata": {},
   "source": [
    "Для воспроизводимости результатов зафиксируем random seed"
   ]
  },
  {
   "cell_type": "code",
   "execution_count": 2,
   "metadata": {},
   "outputs": [],
   "source": [
    "np.random.seed(92)"
   ]
  },
  {
   "cell_type": "markdown",
   "metadata": {},
   "source": [
    "### Задача\n",
    "Представленный ниже код апроксимирует зашумленную функцию $y = 3.5x - 7.3$"
   ]
  },
  {
   "cell_type": "code",
   "execution_count": 3,
   "metadata": {},
   "outputs": [],
   "source": [
    "def func(x):\n",
    "    return 3.5 * x - 7.3"
   ]
  },
  {
   "cell_type": "markdown",
   "metadata": {},
   "source": [
    "Определим наборы данных"
   ]
  },
  {
   "cell_type": "code",
   "execution_count": 4,
   "metadata": {},
   "outputs": [],
   "source": [
    "dataset_len = 30\n",
    "\n",
    "X = np.linspace(dataset_len / -2, dataset_len / 2, dataset_len)\n",
    "noise = np.random.randn(dataset_len)\n",
    "Y = func(X) + noise"
   ]
  },
  {
   "cell_type": "markdown",
   "metadata": {},
   "source": [
    "Для достижения большей репрезентативности выборок берется каждое 3 значение"
   ]
  },
  {
   "cell_type": "code",
   "execution_count": 5,
   "metadata": {},
   "outputs": [],
   "source": [
    "x_train, x_val, x_test = X[0::3], X[1::3], X[2::3]\n",
    "y_train, y_val, y_test = Y[0::3], Y[1::3], Y[2::3]"
   ]
  },
  {
   "cell_type": "markdown",
   "metadata": {},
   "source": [
    "Перемешаем каждый набор данных"
   ]
  },
  {
   "cell_type": "code",
   "execution_count": 6,
   "metadata": {},
   "outputs": [],
   "source": [
    "train_indexes = np.random.permutation(x_train.shape[0])\n",
    "val_indexes = np.random.permutation(x_val.shape[0])\n",
    "test_indexes = np.random.permutation(x_test.shape[0])\n",
    "\n",
    "x_train, y_train = x_train[train_indexes], y_train[train_indexes]\n",
    "x_val, y_val = x_val[val_indexes], y_val[val_indexes]\n",
    "x_test, y_test = x_test[test_indexes], y_test[test_indexes]"
   ]
  },
  {
   "cell_type": "markdown",
   "metadata": {},
   "source": [
    "На графике приближаемая функция выглядит следующим образом:"
   ]
  },
  {
   "cell_type": "code",
   "execution_count": 7,
   "metadata": {
    "scrolled": true
   },
   "outputs": [
    {
     "data": {
      "image/png": "[encoded data removed]",
      "text/plain": [
       "<Figure size 432x288 with 1 Axes>"
      ]
     },
     "metadata": {
      "needs_background": "light"
     },
     "output_type": "display_data"
    }
   ],
   "source": [
    "plt.plot(X, func(X), 'r', label='y = 3.5x - 7.3')\n",
    "plt.scatter(X, Y, label='data')\n",
    "plt.title('Приближаемая функция')\n",
    "plt.legend()\n",
    "plt.grid()"
   ]
  },
  {
   "cell_type": "markdown",
   "metadata": {},
   "source": [
    "### Функция ошибок\n",
    "\n",
    "В качестве loss-функции используется MSE"
   ]
  },
  {
   "cell_type": "markdown",
   "metadata": {},
   "source": [
    "$$MSE = \\frac{1}{n} * \\sum_{i=1}^n (y_{pred}(i) - y_{expected}(i))^2 $$"
   ]
  },
  {
   "cell_type": "code",
   "execution_count": 8,
   "metadata": {},
   "outputs": [],
   "source": [
    "def MSE(y_predicted, y_expected):\n",
    "    return np.square(y_predicted - y_expected).mean()"
   ]
  },
  {
   "cell_type": "markdown",
   "metadata": {},
   "source": [
    "Значение loss-функции между \"чистыми\" и зашумленными данными"
   ]
  },
  {
   "cell_type": "code",
   "execution_count": 9,
   "metadata": {
    "scrolled": true
   },
   "outputs": [
    {
     "data": {
      "text/plain": [
       "0.9745288160360759"
      ]
     },
     "execution_count": 9,
     "metadata": {},
     "output_type": "execute_result"
    }
   ],
   "source": [
    "MSE(func(X), Y)"
   ]
  },
  {
   "cell_type": "markdown",
   "metadata": {},
   "source": [
    "Приближаемая функция имеет вид $y = wx + b$\n",
    "\n",
    "Определим оптимизируемые параметры"
   ]
  },
  {
   "cell_type": "code",
   "execution_count": 10,
   "metadata": {},
   "outputs": [],
   "source": [
    "input_size = 1"
   ]
  },
  {
   "cell_type": "code",
   "execution_count": 11,
   "metadata": {},
   "outputs": [
    {
     "data": {
      "text/plain": [
       "(array([[0.25119467]]), array([0.28985376]))"
      ]
     },
     "execution_count": 11,
     "metadata": {},
     "output_type": "execute_result"
    }
   ],
   "source": [
    "w = np.random.randn(input_size, 1)\n",
    "b = np.random.randn(1)\n",
    "\n",
    "w, b"
   ]
  },
  {
   "cell_type": "markdown",
   "metadata": {},
   "source": [
    "### Функция прямого распространения"
   ]
  },
  {
   "cell_type": "markdown",
   "metadata": {},
   "source": [
    "Определим функцию, выполняющую вычисление при текущем наборе параметров"
   ]
  },
  {
   "cell_type": "code",
   "execution_count": 12,
   "metadata": {},
   "outputs": [],
   "source": [
    "def predict(x):\n",
    "    x = np.array(x).reshape(-1, input_size)\n",
    "    result = x @ w + b\n",
    "    return result.reshape(-1, 1)"
   ]
  },
  {
   "cell_type": "code",
   "execution_count": 13,
   "metadata": {},
   "outputs": [
    {
     "data": {
      "text/plain": [
       "array([[-3.47806635]])"
      ]
     },
     "execution_count": 13,
     "metadata": {},
     "output_type": "execute_result"
    }
   ],
   "source": [
    "predict(X[0])"
   ]
  },
  {
   "cell_type": "markdown",
   "metadata": {},
   "source": [
    "## Метод наименьших квадратов"
   ]
  },
  {
   "cell_type": "markdown",
   "metadata": {},
   "source": [
    "### Коэффициент корреляции Пирсона\n",
    "$$r_{xy} = \\frac{cov_{XY}}{\\sigma{X} * \\sigma{Y}}$$\n",
    "\n",
    "$$r_{xy} = \\frac{\\sum_{i=0}^n(X_i - \\overline{X})(Y_i - \\overline{Y})}{\\sqrt{\\sum_i^n (X_i - \\overline{X})^2} * \\sqrt{\\sum_i^n (Y_i - \\overline{Y})^2}}$$\n",
    "\n",
    "### Веса модели\n",
    "\n",
    "$$w = \\frac{\\sigma{Y}}{\\sigma{X}} * r_{xy}$$\n",
    "\n",
    "$$w = \\frac{\\sigma{Y}}{\\sigma{X}} * \\frac{cov_{XY}}{\\sigma{X} * \\sigma{Y}}$$\n",
    "\n",
    "$$w = \\frac{cov_{XY}}{(\\sigma{X})^2}$$\n",
    "\n",
    "$$b = \\overline{Y} - w * \\overline{X}$$"
   ]
  },
  {
   "cell_type": "code",
   "execution_count": 14,
   "metadata": {},
   "outputs": [
    {
     "data": {
      "text/plain": [
       "0.9994109241147924"
      ]
     },
     "execution_count": 14,
     "metadata": {},
     "output_type": "execute_result"
    }
   ],
   "source": [
    "corrcoef = np.corrcoef(x_train, y_train)[1][0]\n",
    "corrcoef"
   ]
  },
  {
   "cell_type": "code",
   "execution_count": 15,
   "metadata": {},
   "outputs": [
    {
     "data": {
      "text/plain": [
       "array([[3.50438672]])"
      ]
     },
     "execution_count": 15,
     "metadata": {},
     "output_type": "execute_result"
    }
   ],
   "source": [
    "w = np.std(y_train, ddof=1) / np.std(x_train, ddof=1) * corrcoef\n",
    "w = w.reshape(input_size, 1)\n",
    "w"
   ]
  },
  {
   "cell_type": "code",
   "execution_count": 16,
   "metadata": {},
   "outputs": [
    {
     "data": {
      "text/plain": [
       "array([[-7.80364749]])"
      ]
     },
     "execution_count": 16,
     "metadata": {},
     "output_type": "execute_result"
    }
   ],
   "source": [
    "b = y_train.mean() - w * x_train.mean()\n",
    "b"
   ]
  },
  {
   "cell_type": "markdown",
   "metadata": {},
   "source": [
    "### Визуализация результатов"
   ]
  },
  {
   "cell_type": "markdown",
   "metadata": {},
   "source": [
    "Сравним значения приближаемой и полученной в результате применения метода наименьших квадратов моделей"
   ]
  },
  {
   "cell_type": "code",
   "execution_count": 17,
   "metadata": {},
   "outputs": [],
   "source": [
    "expected_model_prediction = func(x_test)\n",
    "actual_model_prediction = predict(x_test).reshape(-1)\n",
    "\n",
    "expected_model_loss = MSE(expected_model_prediction, y_test)\n",
    "actual_model_loss = MSE(actual_model_prediction, y_test)"
   ]
  },
  {
   "cell_type": "code",
   "execution_count": 18,
   "metadata": {},
   "outputs": [
    {
     "data": {
      "image/png": "[encoded data removed]",
      "text/plain": [
       "<Figure size 1152x504 with 2 Axes>"
      ]
     },
     "metadata": {
      "needs_background": "light"
     },
     "output_type": "display_data"
    }
   ],
   "source": [
    "fig, ax = plt.subplots(nrows=1, ncols=2, figsize=(16, 7))\n",
    "\n",
    "ax[0].plot(x_test, expected_model_prediction, 'r', label=f'Ожидаемая модель. MSE: {expected_model_loss}')\n",
    "ax[0].scatter(x_test, y_test, label='Данные')\n",
    "ax[0].legend()\n",
    "\n",
    "ax[1].plot(x_test, actual_model_prediction, 'g', label=f'Обученная модель. MSE: {actual_model_loss}')\n",
    "ax[1].scatter(x_test, y_test, label='Данные')\n",
    "ax[1].legend()\n",
    "\n",
    "plt.show()"
   ]
  },
  {
   "cell_type": "code",
   "execution_count": 27,
   "metadata": {},
   "outputs": [],
   "source": [
    "from models.gradient_descent_model import GradienDescentModel"
   ]
  },
  {
   "cell_type": "code",
   "execution_count": 28,
   "metadata": {},
   "outputs": [
    {
     "ename": "TypeError",
     "evalue": "Can't instantiate abstract class GradienDescentModel with abstract methods fit, predict",
     "output_type": "error",
     "traceback": [
      "\u001b[1;31m---------------------------------------------------------------------------\u001b[0m",
      "\u001b[1;31mTypeError\u001b[0m                                 Traceback (most recent call last)",
      "\u001b[1;32m<ipython-input-28-d50f33bc2163>\u001b[0m in \u001b[0;36m<module>\u001b[1;34m\u001b[0m\n\u001b[1;32m----> 1\u001b[1;33m \u001b[0mtest\u001b[0m \u001b[1;33m=\u001b[0m \u001b[0mGradienDescentModel\u001b[0m\u001b[1;33m(\u001b[0m\u001b[1;33m)\u001b[0m\u001b[1;33m\u001b[0m\u001b[1;33m\u001b[0m\u001b[0m\n\u001b[0m",
      "\u001b[1;31mTypeError\u001b[0m: Can't instantiate abstract class GradienDescentModel with abstract methods fit, predict"
     ]
    }
   ],
   "source": [
    "test = GradienDescentModel()"
   ]
  }
 ],
 "metadata": {
  "kernelspec": {
   "display_name": "Python 3",
   "language": "python",
   "name": "python3"
  },
  "language_info": {
   "codemirror_mode": {
    "name": "ipython",
    "version": 3
   },
   "file_extension": ".py",
   "mimetype": "text/x-python",
   "name": "python",
   "nbconvert_exporter": "python",
   "pygments_lexer": "ipython3",
   "version": "3.7.6"
  }
 },
 "nbformat": 4,
 "nbformat_minor": 4
}
