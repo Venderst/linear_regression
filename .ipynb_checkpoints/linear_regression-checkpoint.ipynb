{
 "cells": [
  {
   "cell_type": "code",
   "execution_count": 1,
   "metadata": {
    "scrolled": true
   },
   "outputs": [],
   "source": [
    "import os\n",
    "\n",
    "from IPython.display import Image\n",
    "\n",
    "import numpy as np\n",
    "import matplotlib.pyplot as plt\n",
    "\n",
    "from tqdm.notebook import tqdm\n",
    "\n",
    "import imageio\n",
    "\n",
    "%matplotlib inline"
   ]
  },
  {
   "cell_type": "markdown",
   "metadata": {},
   "source": [
    "Для воспроизводимости результатов зафиксируем random seed"
   ]
  },
  {
   "cell_type": "code",
   "execution_count": 2,
   "metadata": {},
   "outputs": [],
   "source": [
    "np.random.seed(92)"
   ]
  },
  {
   "cell_type": "markdown",
   "metadata": {},
   "source": [
    "### Задача\n",
    "Представленный ниже код апроксимирует зашумленную функцию $y = 3.5x - 7.3$"
   ]
  },
  {
   "cell_type": "code",
   "execution_count": 3,
   "metadata": {},
   "outputs": [],
   "source": [
    "def func(x):\n",
    "    return 3.5 * x - 7.3"
   ]
  },
  {
   "cell_type": "markdown",
   "metadata": {},
   "source": [
    "Определим наборы данных"
   ]
  },
  {
   "cell_type": "code",
   "execution_count": 4,
   "metadata": {},
   "outputs": [],
   "source": [
    "dataset_len = 30\n",
    "\n",
    "X = np.linspace(dataset_len / -2, dataset_len / 2, dataset_len)\n",
    "noise = np.random.randn(dataset_len)\n",
    "Y = func(X) + noise"
   ]
  },
  {
   "cell_type": "markdown",
   "metadata": {},
   "source": [
    "Для достижения большей репрезентативности выборок берется каждое 3 значение"
   ]
  },
  {
   "cell_type": "code",
   "execution_count": 5,
   "metadata": {},
   "outputs": [],
   "source": [
    "x_train, x_val, x_test = X[0::3], X[1::3], X[2::3]\n",
    "y_train, y_val, y_test = Y[0::3], Y[1::3], Y[2::3]"
   ]
  },
  {
   "cell_type": "markdown",
   "metadata": {},
   "source": [
    "Перемешаем каждый набор данных"
   ]
  },
  {
   "cell_type": "code",
   "execution_count": 6,
   "metadata": {},
   "outputs": [],
   "source": [
    "train_indexes = np.random.permutation(x_train.shape[0])\n",
    "val_indexes = np.random.permutation(x_val.shape[0])\n",
    "test_indexes = np.random.permutation(x_test.shape[0])\n",
    "\n",
    "x_train, y_train = x_train[train_indexes], y_train[train_indexes]\n",
    "x_val, y_val = x_val[val_indexes], y_val[val_indexes]\n",
    "x_test, y_test = x_test[test_indexes], y_test[test_indexes]"
   ]
  },
  {
   "cell_type": "markdown",
   "metadata": {},
   "source": [
    "На графике приближаемая функция выглядит следующим образом:"
   ]
  },
  {
   "cell_type": "code",
   "execution_count": 7,
   "metadata": {},
   "outputs": [
    {
     "data": {
      "image/png": "[encoded data removed]",
      "text/plain": [
       "<Figure size 432x288 with 1 Axes>"
      ]
     },
     "metadata": {
      "needs_background": "light"
     },
     "output_type": "display_data"
    }
   ],
   "source": [
    "plt.plot(X, func(X), 'r', label='y = 3.5x - 7.3')\n",
    "plt.scatter(X, Y, label='data')\n",
    "plt.title('Приближаемая функция')\n",
    "plt.legend()\n",
    "plt.grid()"
   ]
  },
  {
   "cell_type": "markdown",
   "metadata": {},
   "source": [
    "### Функция ошибок\n",
    "\n",
    "В качестве loss-функции используется MSE"
   ]
  },
  {
   "cell_type": "markdown",
   "metadata": {},
   "source": [
    "$$MSE = \\frac{1}{n} * \\sum_{i=1}^n (y_{pred}(i) - y_{expected}(i))^2 $$"
   ]
  },
  {
   "cell_type": "code",
   "execution_count": 8,
   "metadata": {},
   "outputs": [],
   "source": [
    "def MSE(y_predicted, y_expected):\n",
    "    return np.square(y_predicted - y_expected).mean()"
   ]
  },
  {
   "cell_type": "markdown",
   "metadata": {},
   "source": [
    "Значение loss-функции между \"чистыми\" и зашумленными данными"
   ]
  },
  {
   "cell_type": "code",
   "execution_count": 9,
   "metadata": {},
   "outputs": [
    {
     "data": {
      "text/plain": [
       "0.9745288160360759"
      ]
     },
     "execution_count": 9,
     "metadata": {},
     "output_type": "execute_result"
    }
   ],
   "source": [
    "MSE(func(X), Y)"
   ]
  },
  {
   "cell_type": "markdown",
   "metadata": {},
   "source": [
    "В данном случае представлена оптимизация функции в двумерном пространстве, но выполняемый при этом код позволяет работать с большим количеством размерностей"
   ]
  },
  {
   "cell_type": "code",
   "execution_count": 10,
   "metadata": {},
   "outputs": [],
   "source": [
    "input_size = 1\n",
    "output_size = 1"
   ]
  },
  {
   "cell_type": "markdown",
   "metadata": {},
   "source": [
    "Приближаемая функция имеет вид $y = wx + b$.\n",
    "\n",
    "Определим оптимизируемые параметры.\n",
    "\n",
    "Умножение на 5 необходимо для более наглядной визуализации процесса обучения"
   ]
  },
  {
   "cell_type": "code",
   "execution_count": 11,
   "metadata": {},
   "outputs": [
    {
     "data": {
      "text/plain": [
       "(array([[1.25597337]]), array([[1.44926879]]))"
      ]
     },
     "execution_count": 11,
     "metadata": {},
     "output_type": "execute_result"
    }
   ],
   "source": [
    "w = np.random.randn(input_size, output_size) * 5\n",
    "b = np.random.randn(1, output_size) * 5\n",
    "\n",
    "w, b"
   ]
  },
  {
   "cell_type": "markdown",
   "metadata": {},
   "source": [
    "### Функция прямого распространения"
   ]
  },
  {
   "cell_type": "markdown",
   "metadata": {},
   "source": [
    "Определим функцию, выполняющую вычисление при текущем наборе параметров"
   ]
  },
  {
   "cell_type": "code",
   "execution_count": 12,
   "metadata": {},
   "outputs": [],
   "source": [
    "def predict(x):\n",
    "    x = np.array(x).reshape(-1, input_size)\n",
    "    result = x @ w + b\n",
    "    return result.reshape(-1, output_size)"
   ]
  },
  {
   "cell_type": "code",
   "execution_count": 13,
   "metadata": {},
   "outputs": [
    {
     "data": {
      "text/plain": [
       "array([[-17.39033173]])"
      ]
     },
     "execution_count": 13,
     "metadata": {},
     "output_type": "execute_result"
    }
   ],
   "source": [
    "predict(X[0])"
   ]
  },
  {
   "cell_type": "markdown",
   "metadata": {},
   "source": [
    "### Градиент предсказания по весам\n",
    "\n",
    "$$(\\vec{x}w + \\vec{b})_{ij} = \\sum_{r=0}^n (x_{r} * w_{rj})$$\n",
    "\n",
    "$$\\frac{d(\\vec{x}w + \\vec{b})}{d w_{ij}} = x_i$$\n",
    "\n",
    "\\begin{equation*}\n",
    "\\frac{d(\\vec{x}w + \\vec{b})}{d w} =\n",
    "\\begin{bmatrix}\n",
    "\\frac{d(\\vec{x}w + \\vec{b})}{d w_{11}} & ... & \\frac{d(\\vec{x}w + b)}{d w_{1m}} \\\\\n",
    "... & ... & ... \\\\\n",
    "\\frac{d(\\vec{x}w + \\vec{b})}{d w_{n1}} & ... & \\frac{d(\\vec{x}w + b)}{d w_{nm}}\n",
    "\\end{bmatrix}\n",
    "\\end{equation*}\n",
    "\n",
    "\\begin{equation*}\n",
    "\\frac{d(\\vec{x}w + \\vec{b})}{d w} = \n",
    "\\begin{bmatrix}\n",
    "x_1 & ... & x_1 \\\\\n",
    "... & ... & ... \\\\\n",
    "x_n & ... & x_n\n",
    "\\end{bmatrix}\n",
    "\\end{equation*}\n",
    "\n",
    "\\begin{equation*}\n",
    "\\frac{d(\\vec{x}w + \\vec{b})}{d w} = X^T\n",
    "\\end{equation*}\n",
    "\n",
    "### Градиент предсказания по смещению\n",
    "\n",
    "$$\\frac{d(xw + \\vec{b})}{d b} = \n",
    "\\begin{bmatrix}\n",
    "1 & ... & 1\n",
    "\\end{bmatrix}\n",
    "$$\n",
    "\n",
    "### Градиент Loss-функции по предсказанию\n",
    "\n",
    "$$\\frac{d MSE}{d y_{pred}} = \\frac{2}{n} * (y_{pred}(i) - y_{expected}(i))$$\n",
    "\n",
    "### Граддиент Loss-функции по весам\n",
    "\n",
    "$$\\frac{d MSE}{d w} = \\frac{d MSE}{d y_{pred}} * \\frac{d y_{pred}}{d w}$$\n",
    "\n",
    "$$\n",
    "\\frac{d MSE}{d w} = \\frac{2}{n} * (y_{pred}(i) - y_{expected}(i)) \\cdot X^T\n",
    "$$\n",
    "\n",
    "### Градиент Loss-функции по смещению\n",
    "\n",
    "$$\\frac{d MSE}{d b} = \\frac{d MSE}{d y_{pred}} * \\frac{d y_{pred}}{d b}$$\n",
    "\n",
    "$$\\frac{d MSE}{d b} = \\frac{2}{n} * (y_{pred}(i) - y_{expected}(i)) * \n",
    "\\begin{bmatrix}\n",
    "1 & ... & 1\n",
    "\\end{bmatrix}\n",
    "$$\n",
    "\n",
    "$$\\frac{d MSE}{d b} = \\frac{2}{n} * (y_{pred}(i) - y_{expected}(i))$$\n",
    "\n",
    "$$\\frac{d MSE}{d b} = \\frac{d MSE}{d y_{pred}}$$"
   ]
  },
  {
   "cell_type": "markdown",
   "metadata": {},
   "source": [
    "### Обучение производится путем использования метода градиентного спуска\n",
    "\n",
    "$$w_{t+1} = w_t - \\alpha * \\frac{d MSE}{d w}$$\n",
    "\n",
    "$$b_{t+1} = b_t - \\alpha * \\frac{d MSE}{d b}$$"
   ]
  },
  {
   "cell_type": "markdown",
   "metadata": {},
   "source": [
    "### Функция обратного распространения ошибки"
   ]
  },
  {
   "cell_type": "markdown",
   "metadata": {},
   "source": [
    "Реализуем функцию обратного распространения"
   ]
  },
  {
   "cell_type": "code",
   "execution_count": 14,
   "metadata": {},
   "outputs": [],
   "source": [
    "def backward_pass(x, y_pred, y_expected, lr):\n",
    "    global w\n",
    "    global b\n",
    "    \n",
    "    x = np.array(x).reshape(input_size,)\n",
    "    \n",
    "    x = np.array(x).reshape(1, input_size)\n",
    "    \n",
    "    dloss_dy = 2.0 / output_size * (y_pred - y_expected)\n",
    "    \n",
    "    dy_dw = x.T\n",
    "    dy_db = 1\n",
    "    \n",
    "    dloss_dw = dy_dw @ dloss_dy\n",
    "    dloss_db = dy_db * dloss_dy\n",
    "    \n",
    "    w -= lr * dloss_dw\n",
    "    b -= lr * dloss_db"
   ]
  },
  {
   "cell_type": "markdown",
   "metadata": {},
   "source": [
    "### Функция обучения модели"
   ]
  },
  {
   "cell_type": "code",
   "execution_count": 15,
   "metadata": {},
   "outputs": [],
   "source": [
    "def fit(x_train, y_train, x_val, y_val, epochs_number, lr=0.001, early_stopping_rounds=2, \n",
    "        verbose=10, plotting_period=-1, plots_folder='plots', gif_filename='learning.gif'):\n",
    "    if plots_folder and not os.path.exists(plots_folder):\n",
    "        os.mkdir(plots_folder)\n",
    "        \n",
    "    train_loss_history = []\n",
    "    val_loss_history = []\n",
    "    fig = plt.figure()\n",
    "    plots_counter = 0\n",
    "    \n",
    "    best_loss = MSE(predict(x_val).reshape(-1), y_val)\n",
    "    best_loss_epoch = 0\n",
    "    \n",
    "    for epoch in tqdm(range(epochs_number)):\n",
    "        \n",
    "        if plotting_period > 0 and (epoch + 1) % plotting_period == 0:\n",
    "            val_loss = MSE(predict(x_val).reshape(-1), y_val)\n",
    "            plt.plot(x_val, predict(x_val), label=f'Epoch: {epoch + 1}; MSE: {val_loss}', c='red')\n",
    "            plt.scatter(X, Y, c='green')\n",
    "            plt.legend()\n",
    "            plt.savefig(os.path.join(plots_folder, str(plots_counter)))\n",
    "            plt.clf()\n",
    "            plt.close(fig)\n",
    "            plots_counter += 1\n",
    "        \n",
    "        for i in range(len(x_train)):\n",
    "            x = x_train[i]\n",
    "            y_expected = y_train[i]\n",
    "            y_pred = predict(x)\n",
    "\n",
    "            backward_pass(x, y_pred, y_expected, lr)\n",
    "\n",
    "        train_loss_history.append(MSE(predict(x_train).reshape(-1), y_train))\n",
    "        val_loss_history.append(MSE(predict(x_val).reshape(-1), y_val))\n",
    "        \n",
    "        if val_loss_history[-1] < best_loss:\n",
    "            best_loss = val_loss_history[-1]\n",
    "            best_loss_epoch = epoch\n",
    "        elif val_loss_history[-1] > best_loss and early_stopping_rounds > 0:\n",
    "            if epoch - best_loss_epoch > early_stopping_rounds:\n",
    "                print(f'Early stopping. Epoch {epoch + 1}. Current loss: {val_loss_history[-1]}')\n",
    "                break\n",
    "        \n",
    "        if verbose > 0 and (epoch + 1) % verbose == 0:\n",
    "            print(f'{epoch+1}: train_loss: {train_loss_history[-1]}; val_loss: {val_loss_history[-1]}')\n",
    "    \n",
    "    if plotting_period and gif_filename:\n",
    "        filenames = range(len(os.listdir(plots_folder)))\n",
    "\n",
    "        images = []\n",
    "        for filename in filenames:\n",
    "            images.append(imageio.imread(os.path.join(plots_folder, f'{filename}.png')))\n",
    "        imageio.mimsave(gif_filename, images, fps=10)\n",
    "    \n",
    "    plt.close()\n",
    "    \n",
    "    return train_loss_history, val_loss_history"
   ]
  },
  {
   "cell_type": "markdown",
   "metadata": {},
   "source": [
    "Запустим процесс обучения"
   ]
  },
  {
   "cell_type": "code",
   "execution_count": 16,
   "metadata": {},
   "outputs": [
    {
     "data": {
      "application/vnd.jupyter.widget-view+json": {
       "model_id": "d5a3e1dab0b847a4839f28842ad85d74",
       "version_major": 2,
       "version_minor": 0
      },
      "text/plain": [
       "HBox(children=(FloatProgress(value=0.0, max=150.0), HTML(value='')))"
      ]
     },
     "metadata": {},
     "output_type": "display_data"
    },
    {
     "name": "stdout",
     "output_type": "stream",
     "text": [
      "10: train_loss: 55.59337798537698; val_loss: 47.91838788513529\n",
      "20: train_loss: 36.586563905274396; val_loss: 30.215961073580065\n",
      "30: train_loss: 24.217019590212878; val_loss: 18.922155314098696\n",
      "40: train_loss: 16.167500231747194; val_loss: 11.755754179370651\n",
      "50: train_loss: 10.929671281064373; val_loss: 7.240332893006605\n",
      "60: train_loss: 7.521751213237008; val_loss: 4.421705169253434\n",
      "70: train_loss: 5.304709844709056; val_loss: 2.6843094324559624\n",
      "80: train_loss: 3.862622513159026; val_loss: 1.6319399157090846\n",
      "90: train_loss: 2.924787141226753; val_loss: 1.0103145061880017\n",
      "100: train_loss: 2.3150271434761445; val_loss: 0.6568368351406084\n",
      "110: train_loss: 1.9186910581900538; val_loss: 0.4680285459617276\n",
      "120: train_loss: 1.661171853825375; val_loss: 0.3784381244962832\n",
      "130: train_loss: 1.493924902872535; val_loss: 0.3469994904203494\n",
      "Early stopping. Epoch 137. Current loss: 0.3455010748802375\n"
     ]
    }
   ],
   "source": [
    "train_loss_history, val_loss_history = fit(\n",
    "    x_train, y_train, x_val, y_val, epochs_number=150, \n",
    "    verbose=10, plotting_period=1\n",
    ")"
   ]
  },
  {
   "cell_type": "markdown",
   "metadata": {},
   "source": [
    "Изменение функции во время обучения сохранено в gif-файл"
   ]
  },
  {
   "cell_type": "code",
   "execution_count": 17,
   "metadata": {
    "scrolled": false
   },
   "outputs": [
    {
     "data": {
      "text/html": [
       "<img src=\"learning.gif\"/>"
      ],
      "text/plain": [
       "<IPython.core.display.Image object>"
      ]
     },
     "execution_count": 17,
     "metadata": {},
     "output_type": "execute_result"
    }
   ],
   "source": [
    "Image(url=\"learning.gif\")"
   ]
  },
  {
   "cell_type": "markdown",
   "metadata": {},
   "source": [
    "Значение loss-функции стало возрастать, что привело к срабатываю механизма преждевременной остановки обучения"
   ]
  },
  {
   "cell_type": "markdown",
   "metadata": {},
   "source": [
    "### Визуализация результатов"
   ]
  },
  {
   "cell_type": "markdown",
   "metadata": {},
   "source": [
    "График обучения"
   ]
  },
  {
   "cell_type": "code",
   "execution_count": 18,
   "metadata": {},
   "outputs": [
    {
     "data": {
      "image/png": "[encoded data removed]",
      "text/plain": [
       "<Figure size 432x288 with 1 Axes>"
      ]
     },
     "metadata": {
      "needs_background": "light"
     },
     "output_type": "display_data"
    }
   ],
   "source": [
    "plt.plot(train_loss_history, label='train')\n",
    "plt.plot(val_loss_history, label='val')\n",
    "plt.title('Значения функции потерь')\n",
    "plt.legend()\n",
    "plt.grid()"
   ]
  },
  {
   "cell_type": "markdown",
   "metadata": {},
   "source": [
    "Сравним значения приближаемой и полученной в результате обучения функций"
   ]
  },
  {
   "cell_type": "code",
   "execution_count": 19,
   "metadata": {},
   "outputs": [],
   "source": [
    "expected_model_prediction = func(x_test)\n",
    "actual_model_prediction = predict(x_test).reshape(-1)\n",
    "\n",
    "expected_model_loss = MSE(expected_model_prediction, y_test)\n",
    "actual_model_loss = MSE(actual_model_prediction, y_test)"
   ]
  },
  {
   "cell_type": "code",
   "execution_count": 20,
   "metadata": {},
   "outputs": [
    {
     "data": {
      "image/png": "[encoded data removed]",
      "text/plain": [
       "<Figure size 1152x504 with 2 Axes>"
      ]
     },
     "metadata": {
      "needs_background": "light"
     },
     "output_type": "display_data"
    }
   ],
   "source": [
    "fig, ax = plt.subplots(nrows=1, ncols=2, figsize=(16, 7))\n",
    "\n",
    "ax[0].plot(x_test, expected_model_prediction, 'r', label=f'Ожидаемая модель. MSE: {expected_model_loss}')\n",
    "ax[0].scatter(x_test, y_test, label='data')\n",
    "ax[0].legend()\n",
    "\n",
    "ax[1].plot(x_test, actual_model_prediction, 'g', label=f'Обученная модель. MSE: {actual_model_loss}')\n",
    "ax[1].scatter(x_test, y_test, label='data')\n",
    "ax[1].legend()\n",
    "\n",
    "plt.show()"
   ]
  },
  {
   "cell_type": "markdown",
   "metadata": {},
   "source": [
    "Из-за шума полученная в результате обучения функция на тестовых данных показывает результат лучше, чем исходная"
   ]
  }
 ],
 "metadata": {
  "kernelspec": {
   "display_name": "Python 3",
   "language": "python",
   "name": "python3"
  },
  "language_info": {
   "codemirror_mode": {
    "name": "ipython",
    "version": 3
   },
   "file_extension": ".py",
   "mimetype": "text/x-python",
   "name": "python",
   "nbconvert_exporter": "python",
   "pygments_lexer": "ipython3",
   "version": "3.7.5"
  }
 },
 "nbformat": 4,
 "nbformat_minor": 4
}
