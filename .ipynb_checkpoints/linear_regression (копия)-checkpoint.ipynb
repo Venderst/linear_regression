{
 "cells": [
  {
   "cell_type": "code",
   "execution_count": 1,
   "metadata": {
    "scrolled": true
   },
   "outputs": [],
   "source": [
    "import numpy as np\n",
    "import matplotlib.pyplot as plt"
   ]
  },
  {
   "cell_type": "markdown",
   "metadata": {},
   "source": [
    "Для воспроизводимости результатов"
   ]
  },
  {
   "cell_type": "code",
   "execution_count": 2,
   "metadata": {},
   "outputs": [],
   "source": [
    "np.random.seed(95)"
   ]
  },
  {
   "cell_type": "markdown",
   "metadata": {},
   "source": [
    "### Задача\n",
    "Представленный ниже код апроксимирует зашумленную функцию $z = 3.5x - 7.3y"
   ]
  },
  {
   "cell_type": "code",
   "execution_count": 3,
   "metadata": {},
   "outputs": [],
   "source": [
    "def func(x, y):\n",
    "    return 3.5 * x - 7.3 * y"
   ]
  },
  {
   "cell_type": "markdown",
   "metadata": {},
   "source": [
    "Определим наборы данных"
   ]
  },
  {
   "cell_type": "code",
   "execution_count": 4,
   "metadata": {},
   "outputs": [],
   "source": [
    "dataset_len = 30\n",
    "\n",
    "np.linspace()\n",
    "\n",
    "\n",
    "\n",
    "X = np.linspace(dataset_len / -2, dataset_len / 2, dataset_len)\n",
    "np.random.shuffle(X)\n",
    "noise = np.random.randn(dataset_len)\n",
    "Y = func(X) + noise\n",
    "\n",
    "x_train, x_val, x_test = np.array_split(X, 3)\n",
    "y_train, y_val, y_test = np.array_split(Y, 3)"
   ]
  },
  {
   "cell_type": "markdown",
   "metadata": {},
   "source": [
    "На графике приближаемая функция выглядит следующим образом:"
   ]
  },
  {
   "cell_type": "code",
   "execution_count": 5,
   "metadata": {},
   "outputs": [
    {
     "data": {
      "image/png": "[encoded data removed]",
      "text/plain": [
       "<Figure size 432x288 with 1 Axes>"
      ]
     },
     "metadata": {
      "needs_background": "light"
     },
     "output_type": "display_data"
    }
   ],
   "source": [
    "plt.scatter(X, Y)\n",
    "plt.grid()"
   ]
  },
  {
   "cell_type": "markdown",
   "metadata": {},
   "source": [
    "### В качестве loss-функции используется MSE"
   ]
  },
  {
   "cell_type": "markdown",
   "metadata": {},
   "source": [
    "$$MSE = \\frac{1}{n} * \\sum_{i=1}^n (y_{pred}(i) - y_{expected}(i))^2 $$"
   ]
  },
  {
   "cell_type": "code",
   "execution_count": 6,
   "metadata": {},
   "outputs": [],
   "source": [
    "def MSE(y_predicted, y_expected):\n",
    "    return np.square(y_predicted - y_expected).mean()"
   ]
  },
  {
   "cell_type": "markdown",
   "metadata": {},
   "source": [
    "Значение loss-функции между \"чистыми\" и зашумленными данными"
   ]
  },
  {
   "cell_type": "code",
   "execution_count": 7,
   "metadata": {},
   "outputs": [
    {
     "data": {
      "text/plain": [
       "0.8979579230708927"
      ]
     },
     "execution_count": 7,
     "metadata": {},
     "output_type": "execute_result"
    }
   ],
   "source": [
    "MSE(func(X), Y)"
   ]
  },
  {
   "cell_type": "markdown",
   "metadata": {},
   "source": [
    "В данном случае представлена оптимизация функции в двумерном пространстве, но выполняемый при этом код позволяет работать с большим количеством размерностей"
   ]
  },
  {
   "cell_type": "code",
   "execution_count": 8,
   "metadata": {},
   "outputs": [],
   "source": [
    "input_size = 1\n",
    "output_size = 1"
   ]
  },
  {
   "cell_type": "markdown",
   "metadata": {},
   "source": [
    "Приближаемая функция имеет вид $y = w @ x + b$.\n",
    "\n",
    "Определим оптимизируемые параметры"
   ]
  },
  {
   "cell_type": "code",
   "execution_count": 9,
   "metadata": {},
   "outputs": [
    {
     "data": {
      "text/plain": [
       "(array([[-1.16938751]]), array([[1.01677978]]))"
      ]
     },
     "execution_count": 9,
     "metadata": {},
     "output_type": "execute_result"
    }
   ],
   "source": [
    "w = np.random.randn(input_size, output_size)\n",
    "b = np.random.randn(1, output_size)\n",
    "\n",
    "w, b"
   ]
  },
  {
   "cell_type": "markdown",
   "metadata": {},
   "source": [
    "### Функция прямого распространения"
   ]
  },
  {
   "cell_type": "markdown",
   "metadata": {},
   "source": [
    "Определим функцию, выполняющую вычисление при текущем наборе параметров"
   ]
  },
  {
   "cell_type": "code",
   "execution_count": 10,
   "metadata": {},
   "outputs": [],
   "source": [
    "def predict(x):\n",
    "    x = np.array(x).reshape(-1, input_size)\n",
    "    result = x @ w + b\n",
    "    return result.reshape(-1, output_size)"
   ]
  },
  {
   "cell_type": "code",
   "execution_count": 11,
   "metadata": {},
   "outputs": [
    {
     "data": {
      "text/plain": [
       "array([[-5.63663193]])"
      ]
     },
     "execution_count": 11,
     "metadata": {},
     "output_type": "execute_result"
    }
   ],
   "source": [
    "predict(X[0])"
   ]
  },
  {
   "cell_type": "markdown",
   "metadata": {},
   "source": [
    "### Градиент предсказания по весам\n",
    "\n",
    "$$(xw + b)_{ij} = \\sum_{i=0}^n (x_i * w_{ij})$$\n",
    "\n",
    "$$\\frac{d(xw + b)}{d w_{ij}} = x_i$$\n",
    "\n",
    "\\begin{equation*}\n",
    "\\frac{d(xw + b)}{d w} = \\begin{bmatrix}\n",
    "\\frac{d(xw + b)}{d w_{11}} & ... & \\frac{d(xw + b)}{d w_{1m}} \\\\\n",
    "... & ... & ... \\\\\n",
    "\\frac{d(xw + b)}{d w_{n1}} & ... & \\frac{d(xw + b)}{d w_{nm}}\n",
    "\\end{bmatrix}\n",
    "\\end{equation*}\n",
    "\n",
    "\\begin{equation*}\n",
    "\\frac{d(xw + b)}{d w} = \n",
    "\\begin{bmatrix}\n",
    "x_1 & ... & x_1 \\\\\n",
    "... & ... & ... \\\\\n",
    "x_n & ... & x_n\n",
    "\\end{bmatrix}\n",
    "\\end{equation*}\n",
    "\n",
    "### Градиент предсказания по смещению\n",
    "\n",
    "$$\\frac{d(xw + b)}{d b} = 1$$\n",
    "\n",
    "### Градиент Loss-функции по предсказанию\n",
    "\n",
    "$$\\frac{d MSE}{d y_{pred}} = \\frac{2}{n} * (y_{pred}(i) - y_{expected}(i))$$\n",
    "\n",
    "### Граддиент Loss-функции по весам\n",
    "\n",
    "$$\\frac{d MSE}{d w} = \\frac{d MSE}{d y_{pred}} * \\frac{d y_{pred}}{d w}$$\n",
    "\n",
    "$$\n",
    "\\frac{d MSE}{d w} = \\frac{2}{n} * (y_{pred}(i) - y_{expected}(i)) *\n",
    "\\begin{bmatrix}\n",
    "x_1 & ... & x_1 \\\\\n",
    "... & ... & ... \\\\\n",
    "x_n & ... & x_n\n",
    "\\end{bmatrix}\n",
    "$$\n",
    "\n",
    "### Градиент Loss-функции по смещению\n",
    "\n",
    "$$\\frac{d MSE}{d b} = \\frac{d MSE}{d y_{pred}} * \\frac{d y_{pred}}{d b}$$\n",
    "\n",
    "$$\\frac{d MSE}{d b} = \\frac{2}{n} * (y_{pred}(i) - y_{expected}(i)) * 1$$"
   ]
  },
  {
   "cell_type": "markdown",
   "metadata": {},
   "source": [
    "### Обучение производится путем использования метода градиентного спуска\n",
    "\n",
    "$$w_{t+1} = w_t - \\alpha * \\frac{d MSE}{d w}$$\n",
    "\n",
    "$$b_{t+1} = b_t - \\alpha * \\frac{d MSE}{d b}$$"
   ]
  },
  {
   "cell_type": "markdown",
   "metadata": {},
   "source": [
    "### Функция обратного распространения ошибки"
   ]
  },
  {
   "cell_type": "markdown",
   "metadata": {},
   "source": [
    "Реализуем функцию обратного распространения программно"
   ]
  },
  {
   "cell_type": "code",
   "execution_count": 12,
   "metadata": {},
   "outputs": [],
   "source": [
    "def backward_pass(x, y_pred, y_expected, lr):\n",
    "    global w\n",
    "    global b\n",
    "    \n",
    "    x = np.array(x).reshape(input_size,)\n",
    "    y_pred = np.array(y_pred).reshape(output_size,)\n",
    "    y_expected = np.array(y_expected).reshape(output_size,)\n",
    "    \n",
    "    dloss_dy = 2.0 / output_size * (y_pred - y_expected)\n",
    "    \n",
    "    dy_dw = np.broadcast_to(x, (input_size, output_size))\n",
    "    dy_db = np.ones(shape=(output_size,))\n",
    "    \n",
    "    dloss_dw = dloss_dy @ dy_dw\n",
    "    dloss_db = dloss_dy @ dy_db\n",
    "    \n",
    "    w -= lr * dloss_dw\n",
    "    b -= lr * dloss_db"
   ]
  },
  {
   "cell_type": "markdown",
   "metadata": {},
   "source": [
    "### Функция обучения модели"
   ]
  },
  {
   "cell_type": "code",
   "execution_count": 13,
   "metadata": {},
   "outputs": [],
   "source": [
    "def fit(x_train, y_train, x_val, y_val, epochs_number, lr=0.003, verbose=10):\n",
    "    loss_history = np.empty(shape=(epochs_number,))\n",
    "    for epoch in range(epochs_number):\n",
    "        for i in range(len(x_train)):\n",
    "            x = x_train[i]\n",
    "            y_expected = y_train[i]\n",
    "            y_pred = predict(x)\n",
    "\n",
    "            backward_pass(x, y_pred, y_expected, lr)\n",
    "\n",
    "        loss_history[epoch] = MSE(predict(x_val).reshape(-1), y_val)\n",
    "\n",
    "        if (epoch + 1) % verbose == 0:\n",
    "            print(f'{epoch+1}: {loss_history[epoch]}')\n",
    "    return loss_history"
   ]
  },
  {
   "cell_type": "markdown",
   "metadata": {},
   "source": [
    "Запустим процесс обучения"
   ]
  },
  {
   "cell_type": "code",
   "execution_count": 14,
   "metadata": {},
   "outputs": [
    {
     "name": "stdout",
     "output_type": "stream",
     "text": [
      "50: 3.2220833902951442\n",
      "100: 2.2448734533959898\n",
      "150: 2.2016989368538917\n",
      "200: 2.1990121622455616\n",
      "250: 2.1988403217460073\n",
      "300: 2.1988293115627178\n",
      "350: 2.1988286060363227\n",
      "400: 2.1988285608262514\n",
      "450: 2.1988285579291977\n",
      "500: 2.1988285577435702\n",
      "550: 2.198828557731658\n",
      "600: 2.1988285577308946\n"
     ]
    }
   ],
   "source": [
    "loss_history1 = fit(x_train, y_train, x_val, y_val, epochs_number=600, verbose=50)"
   ]
  },
  {
   "cell_type": "markdown",
   "metadata": {},
   "source": [
    "Плато достигнуто. Для дальнейшего снижения значения loss-функции необходимо уменьшить learning rate"
   ]
  },
  {
   "cell_type": "code",
   "execution_count": 15,
   "metadata": {},
   "outputs": [
    {
     "name": "stdout",
     "output_type": "stream",
     "text": [
      "500: 1.4584844642460353\n",
      "1000: 1.1644008657029312\n",
      "1500: 1.0361984448602222\n",
      "2000: 0.9759638077686767\n",
      "2500: 0.946147076361122\n",
      "3000: 0.930892627850891\n",
      "3500: 0.9229308915176831\n",
      "4000: 0.9187229173713529\n",
      "4500: 0.9164778775673265\n",
      "5000: 0.9152684036018222\n",
      "5500: 0.9146079360382396\n",
      "6000: 0.9142393429748698\n"
     ]
    }
   ],
   "source": [
    "loss_history2 = fit(x_train, y_train, x_val, y_val, epochs_number=6000, lr=0.000001, verbose=500)"
   ]
  },
  {
   "cell_type": "markdown",
   "metadata": {},
   "source": [
    "### Визуализация результатов"
   ]
  },
  {
   "cell_type": "markdown",
   "metadata": {},
   "source": [
    "Значение loss-функции на начальных весах модели слишком велико относительно последующих, для наглядности оно не будет отбражено на графике"
   ]
  },
  {
   "cell_type": "code",
   "execution_count": 16,
   "metadata": {},
   "outputs": [],
   "source": [
    "skipped_values_number = 100\n",
    "loss_history = np.append(loss_history1[skipped_values_number:], loss_history2)"
   ]
  },
  {
   "cell_type": "markdown",
   "metadata": {},
   "source": [
    "График обучения"
   ]
  },
  {
   "cell_type": "code",
   "execution_count": 17,
   "metadata": {},
   "outputs": [
    {
     "data": {
      "image/png": "[encoded data removed]",
      "text/plain": [
       "<Figure size 432x288 with 1 Axes>"
      ]
     },
     "metadata": {
      "needs_background": "light"
     },
     "output_type": "display_data"
    }
   ],
   "source": [
    "plt.plot(np.arange(loss_history.shape[0]), loss_history)\n",
    "plt.text(len(loss_history1) - skipped_values_number, loss_history1[-1], '  lr changed')\n",
    "plt.scatter(len(loss_history1) - skipped_values_number, loss_history1[-1], color='r')\n",
    "plt.show()"
   ]
  },
  {
   "cell_type": "markdown",
   "metadata": {},
   "source": [
    "Сравним значения приближаемой и полученной в результате обучения функций"
   ]
  },
  {
   "cell_type": "code",
   "execution_count": 18,
   "metadata": {},
   "outputs": [],
   "source": [
    "expected_model_prediction = func(x_test)\n",
    "actual_model_prediction = predict(x_test).reshape(-1)\n",
    "\n",
    "expected_model_loss = MSE(expected_model_prediction, y_test).mean()\n",
    "actual_model_loss = MSE(actual_model_prediction, y_test).mean()"
   ]
  },
  {
   "cell_type": "code",
   "execution_count": 19,
   "metadata": {},
   "outputs": [
    {
     "data": {
      "image/png": "[encoded data removed]",
      "text/plain": [
       "<Figure size 1152x504 with 2 Axes>"
      ]
     },
     "metadata": {
      "needs_background": "light"
     },
     "output_type": "display_data"
    }
   ],
   "source": [
    "fig, ax = plt.subplots(nrows=1, ncols=2, figsize=(16, 7))\n",
    "\n",
    "ax[0].plot(x_test, expected_model_prediction, 'r', label=f'Expected model, mean loss: {expected_model_loss}')\n",
    "ax[0].scatter(x_test, y_test, label='data')\n",
    "ax[0].legend()\n",
    "\n",
    "ax[1].plot(x_test, actual_model_prediction, 'g', label=f'Actual model, mean loss: {actual_model_loss}')\n",
    "ax[1].scatter(x_test, y_test, label='data')\n",
    "ax[1].legend()\n",
    "\n",
    "plt.show()"
   ]
  }
 ],
 "metadata": {
  "kernelspec": {
   "display_name": "Python 3",
   "language": "python",
   "name": "python3"
  },
  "language_info": {
   "codemirror_mode": {
    "name": "ipython",
    "version": 3
   },
   "file_extension": ".py",
   "mimetype": "text/x-python",
   "name": "python",
   "nbconvert_exporter": "python",
   "pygments_lexer": "ipython3",
   "version": "3.7.5"
  }
 },
 "nbformat": 4,
 "nbformat_minor": 4
}
